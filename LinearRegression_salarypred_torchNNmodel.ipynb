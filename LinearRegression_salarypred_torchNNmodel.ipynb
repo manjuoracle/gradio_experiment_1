{
  "nbformat": 4,
  "nbformat_minor": 0,
  "metadata": {
    "colab": {
      "provenance": [],
      "authorship_tag": "ABX9TyP2OyFSSHpGhD73eJX+/7Ld",
      "include_colab_link": true
    },
    "kernelspec": {
      "name": "python3",
      "display_name": "Python 3"
    },
    "language_info": {
      "name": "python"
    }
  },
  "cells": [
    {
      "cell_type": "markdown",
      "metadata": {
        "id": "view-in-github",
        "colab_type": "text"
      },
      "source": [
        "<a href=\"https://colab.research.google.com/github/manjuoracle/gradio_experiment_1/blob/main/LinearRegression_salarypred_torchNNmodel.ipynb\" target=\"_parent\"><img src=\"https://colab.research.google.com/assets/colab-badge.svg\" alt=\"Open In Colab\"/></a>"
      ]
    },
    {
      "cell_type": "code",
      "execution_count": null,
      "metadata": {
        "id": "ybou2zqOYStA"
      },
      "outputs": [],
      "source": [
        "Linear regression NN model  \n",
        "\n",
        "#num1 = int(input(\"enter your experiance:  \"))\n",
        "import torch\n",
        "import torch.nn as nn\n",
        "import torch.optim as optim\n",
        "import numpy as np\n",
        "import pandas as pd\n",
        "import matplotlib.pyplot as plt\n",
        "\n",
        "# step1: device \n",
        "device = torch.device('cuda' if torch.cuda.is_available() else 'cpu')\n",
        "\n",
        "#step2 prepare data\n",
        "df = pd.read_csv('/content/salarydata.csv')\n",
        "df.head()\n",
        "\n",
        "X_train= torch.tensor(df.iloc[:, :-1].values.astype(np.float32))\n",
        "y_train= torch.tensor(df.iloc[:, -1].values.astype(np.float32))\n",
        "\n",
        "y_train = y_train.view(y_train.shape[0],1)\n",
        "\n",
        "# Model\n",
        "modelT = nn.Linear(1, 1)\n",
        "\n",
        "# Loss Function And Optimizer \n",
        "learning_rate = 0.01\n",
        "criterion = nn.MSELoss()\n",
        "optimizer = torch.optim.SGD(modelT.parameters(), lr=learning_rate)\n",
        "\n",
        "num_epochs = 2000\n",
        "for epoch in range(num_epochs):\n",
        "    # Forward pass and loss\n",
        "    y_predicted = modelT(X_train)\n",
        "    loss = criterion(y_predicted, y_train)\n",
        "    \n",
        "    # Backward pass and update\n",
        "    loss.backward()\n",
        "    optimizer.step()\n",
        "\n",
        "    # zero grad before new step\n",
        "    optimizer.zero_grad()\n",
        "\n",
        "    if (epoch+1) % 100 == 0:\n",
        "        print(f'epoch: {epoch+1}, loss = {loss.item():.4f}')\n",
        "\n",
        "predicted = modelT(X_train).cpu().detach().numpy()\n",
        "#Plot Data\n",
        "plt.scatter(X_train.cpu(), y_train.cpu(), color = 'red')\n",
        "plt.plot(X_train.cpu(), predicted, color = 'blue')\n",
        "plt.title('Salary vs Experience (Training set Pytorch)')\n",
        "plt.xlabel('Years of Experience')\n",
        "plt.ylabel('Salary')\n",
        "plt.show()\n",
        "\n",
        "model_salary = modelT\n",
        "#save model\n",
        "torch.save(model_salary,\"/content/model_salary\" )"
      ]
    }
  ]
}